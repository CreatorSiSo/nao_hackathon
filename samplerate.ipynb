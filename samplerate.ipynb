{
 "cells": [
  {
   "cell_type": "markdown",
   "metadata": {},
   "source": [
    "# Samplerate Konvertierung\n",
    "\n",
    "Der Mikrofontreiber der Naos erlaubt es dem Nutzer anzugeben welche Samplerate er gerne hätte. Leider ist die Angabe wirklich nur eine Präferenz und keine Anweisung. Der Treiber entscheidet öfter selbständig, dass der Nutzer eine andere Samplerate braucht.\n",
    "Für manche Verarbeitungsschritte der Daten ist die Samplerate, oder genauer die Nyquist-Frequenz, allerdings sehr wichtig. Diese brauchen im Moment eine Samplerate von 44100 Hz. Die Daten kommen aber oftmals mit 48000 Hz.\n",
    "\n",
    "Wir brauchen also eine Methode Daten die mit einer Samplerate von 48000 Hz aufgenommen werden zu 44100 Hz zu konvertieren. Wichtig ist dabei zu berücksichtigen, dass diese Konvertierung auf dem Roboter in Echtzeit ablaufen muss.\n",
    "\n",
    "Ein einfacher Ansatz könnte sein die Daten von der Zeitreihe in den Frequenzbereich zu überführen, dort zu konvertieren und dann zurück zu konvertieren. Genauer: die werte mit einer FFT in den Frequenzbereich bringen jetzt die Werte für die Buckets für die niedrigere Samplerate berechnen und die Werte zurück transformieren. Man könnte zum Beispiel eine Spline-Interpolation zwischen den Buckets von 48000 Hz nehmen um die Werte für 44100 Hz zu berechnen."
   ]
  },
  {
   "cell_type": "code",
   "execution_count": 1,
   "metadata": {},
   "outputs": [],
   "source": [
    "import numpy as np"
   ]
  }
 ],
 "metadata": {
  "kernelspec": {
   "display_name": ".venv",
   "language": "python",
   "name": "python3"
  },
  "language_info": {
   "codemirror_mode": {
    "name": "ipython",
    "version": 3
   },
   "file_extension": ".py",
   "mimetype": "text/x-python",
   "name": "python",
   "nbconvert_exporter": "python",
   "pygments_lexer": "ipython3",
   "version": "3.10.12"
  }
 },
 "nbformat": 4,
 "nbformat_minor": 2
}
