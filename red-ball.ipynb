{
 "cells": [
  {
   "cell_type": "markdown",
   "metadata": {},
   "source": [
    "# Ballerkennung für rote Bälle\n",
    "\n",
    "Vor einigen Jahren, hatten die Roboter noch weniger Rechenlesitung. Damit es mit den eingeschränkten Möglichkeiten von damals möglich war den Ball zu finden, ware die Bälle damals noch rot/orange.\n",
    "Es liegen einige Bilder von den Kameras eines Roboters unter `images/red_ball`. Versuche ein Programm zu schreiben das in solchen Bildern und später auf dem Roboter den Roten Ball erkennen kann.\n",
    "Damit das Programm gut mit dem Rest der Software kommunizieren kann sollte es einfach die Position des Balls im Bild ausgeben."
   ]
  },
  {
   "cell_type": "code",
   "execution_count": null,
   "metadata": {},
   "outputs": [],
   "source": [
    "import cv2"
   ]
  }
 ],
 "metadata": {
  "language_info": {
   "name": "python"
  }
 },
 "nbformat": 4,
 "nbformat_minor": 2
}
