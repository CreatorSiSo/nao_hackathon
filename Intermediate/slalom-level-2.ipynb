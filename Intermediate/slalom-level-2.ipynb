{
 "cells": [
  {
   "cell_type": "markdown",
   "source": [
    "# Slalom Level 2\n",
    "Hier wird die Beginner Slalom Challenge weitergeführt. Nun wirst du den Roboter mit einem Vektor steuern der die Laufrichtung von dem Roboter aus angibt."
   ],
   "metadata": {
    "collapsed": false
   },
   "id": "ccea1ad76a74a07a"
  },
  {
   "cell_type": "code",
   "execution_count": null,
   "outputs": [],
   "source": [
    "from naobackend.worldmodel_receiver import WorldmodelReceiver\n",
    "from naobackend.walk_control import WalkControl\n",
    "import time\n",
    "\n",
    "ip = \"10.0.13.x\"\n",
    "\n",
    "# wir verbinden uns nun mit dem Worldmodel des Roboters. Das Worldmodel\n",
    "# beinhaltet unter anderem die Position des Roboters auf dem Spielfeld.\n",
    "wr = WorldmodelReceiver(ip)\n",
    "controller = WalkControl(ip)\n",
    "\n",
    "# Drei Sekunden warten bis das erste Worldmodel da ist. Überprüfe ob der\n",
    "# Roboter an ist und steht.\n",
    "time.sleep(3)\n",
    "\n",
    "# nun holen wir uns das Worldmodel und die Position.\n",
    "x = wr.get_worldmodel().worldmodel.pos.x\n",
    "y = wr.get_worldmodel().worldmodel.pos.y\n",
    "a = wr.get_worldmodel().worldmodel.pos.a\n",
    "\n",
    "# das ansteuern des Roboters erfolgt über einen Vektor. x ist die\n",
    "# Geschwindigkeit die der Roboter gerade aus in m/s laufen soll und\n",
    "# y die Geschwindigkeit die der Roboter seitlich in m/s laufen soll.\n",
    "# a ist die Geschwindigkeit die der Roboter sich drehen soll in rad/s.\n",
    "controller.set_velocity(0.5,0,0)\n",
    "\n",
    "time.sleep(2)\n",
    "\n",
    "# der Roboter sollte nun 2s nach vorne laufen"
   ],
   "metadata": {
    "collapsed": false
   },
   "id": "82fd9cca9114f6bf"
  },
  {
   "cell_type": "markdown",
   "source": [
    "## Nun du!\n",
    "Lasse den Roboter ein Slalomparcour mit der set_velocity funktion laufen."
   ],
   "metadata": {
    "collapsed": false
   },
   "id": "64d1fb3f8773fb22"
  },
  {
   "cell_type": "code",
   "execution_count": null,
   "outputs": [],
   "source": [],
   "metadata": {
    "collapsed": false
   },
   "id": "586b9438ec5d37b6"
  }
 ],
 "metadata": {
  "kernelspec": {
   "display_name": "Python 3",
   "language": "python",
   "name": "python3"
  },
  "language_info": {
   "codemirror_mode": {
    "name": "ipython",
    "version": 2
   },
   "file_extension": ".py",
   "mimetype": "text/x-python",
   "name": "python",
   "nbconvert_exporter": "python",
   "pygments_lexer": "ipython2",
   "version": "2.7.6"
  }
 },
 "nbformat": 4,
 "nbformat_minor": 5
}
