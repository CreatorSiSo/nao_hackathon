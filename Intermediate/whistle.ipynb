{
 "cells": [
  {
   "cell_type": "markdown",
   "metadata": {},
   "source": [
    "# Pfiffdetektion\n",
    "Mit dem Pfiff werden im Spiel verschieden Situationen signalisiert. Z. B. wenn ein Spiel beginnt oder nachdem ein Tor gefallen ist. Wenn der Roboter den Pfiff nicht selbst erkennt, bekommt er erst mit 15s Verzögerung ein Signal gesendet. \n",
    "\n",
    "In 15s kann der Roboter über das halbe Spielfeld laufen. Um diesen Vorteil zu nutzen, muss er den Pfiff selbständig erkennen können. Ziel dieser Aufgabenreihe ist es, mit den Daten aus den Mikrofonen der Roboter vertraut zu werden, sowie eine simple Whistledetection zu schreiben (Beginner). Danach soll mit dem Konzept der Fouriertransformation gearbeitet werden (Intermediate) und um dann mit den Problemen der Echtzeiterkennung unter viel Noise auf dem Wettbewerb (Advanced, Daten von der letzten Weltmeisterschaft) zurechtzukommen.\n",
    "\n",
    "Der folgende Code-Schnipsel lädt die Audiodaten aus der Datei. In der Datei sind nur die Daten von einem der vier Mikrofone des Roboters. Es wurde mehrmale neben einem Roboter gepfiffen. Es gibt so gut wie keine Hintergrundgeräusche."
   ]
  },
  {
   "cell_type": "code",
   "execution_count": null,
   "metadata": {},
   "outputs": [],
   "source": [
    "# Importieren des Moduls das Sounddaten verstehen kann\n",
    "import soundfile as sf\n",
    "\n",
    "# Lesen der Datei mit den Sounddaten\n",
    "sound_data, samplerate = sf.read('../data/audio/cleanWhistles.flac')\n",
    "frame_size = 441"
   ]
  },
  {
   "cell_type": "markdown",
   "metadata": {},
   "source": [
    "In der Beginner-Aufhabe haben wir uns die Daten angesehen und eine simple Detektion gebaut. Für die Zukunft wird das nicht ausreichen, da so auch ein Whislte erkannt werden würde, wenn ein Kind den Roboter anbrüllt (ja, das kommt vor ;). Um die Whistledetektion spezifischer zu gestallten, kann man sich das Frequenzsektrum des Signals ansehen. Um aus dem Signal die Frequenzen zu berechnen, verwenden wir die Fourier-Transformation. Die Fourier-Transformation kann mittels `signal.stft` aus dem Pakte `scipy` berechnet werden."
   ]
  },
  {
   "cell_type": "code",
   "execution_count": null,
   "metadata": {},
   "outputs": [],
   "source": [
    "import matplotlib.pyplot as plt\n",
    "import numpy as np\n",
    "from scipy import signal\n",
    "\n",
    "lb_f, lb_t, lb_Sxx = signal.stft(sound_data, samplerate, nperseg=frame_size, scaling='psd')\n",
    "plt.pcolormesh(lb_t, lb_f, np.log(np.abs(lb_Sxx)), shading='gouraud')"
   ]
  },
  {
   "cell_type": "markdown",
   "metadata": {},
   "source": [
    "Man kennt schon ein bisschen was. Zommen wir etwas hinein."
   ]
  },
  {
   "cell_type": "code",
   "execution_count": null,
   "outputs": [],
   "source": [
    "lb_f, lb_t, lb_Sxx = signal.stft(sound_data[0:1500000], samplerate, nperseg=frame_size, scaling='psd')\n",
    "plt.pcolormesh(lb_t, lb_f, np.log(np.abs(lb_Sxx)), shading='gouraud')"
   ],
   "metadata": {
    "collapsed": false
   }
  },
  {
   "cell_type": "markdown",
   "source": [
    "Man erkennt, dass mit vier verschiedenen Pfeifen gepfiffen wurde. Jede Pfeife hat einen eigen Grundton (bei der ersten z. B. etwas über 2500Hz.) und mehrere spezifische Obertöne. Die Obertöne sind ganzzahlige Vielfache des Grundtons. Die zweite Pfeife hat die am meisten ausgeprägten Obertöne.\n",
    "\n",
    "Aufhabe: Schreibe ein Programm, dass in der gesamten Audiodatei nur die zweite Pfeife erkennt. Nutze dafür nicht nur den Grundton, sondern auch die Obertöne.  \n"
   ],
   "metadata": {
    "collapsed": false
   }
  },
  {
   "cell_type": "code",
   "execution_count": null,
   "outputs": [],
   "source": [
    "# your code here"
   ],
   "metadata": {
    "collapsed": false
   }
  },
  {
   "cell_type": "markdown",
   "source": [],
   "metadata": {
    "collapsed": false
   }
  }
 ],
 "metadata": {
  "kernelspec": {
   "display_name": ".venv",
   "language": "python",
   "name": "python3"
  },
  "language_info": {
   "codemirror_mode": {
    "name": "ipython",
    "version": 3
   },
   "file_extension": ".py",
   "mimetype": "text/x-python",
   "name": "python",
   "nbconvert_exporter": "python",
   "pygments_lexer": "ipython3",
   "version": "3.10.12"
  }
 },
 "nbformat": 4,
 "nbformat_minor": 2
}
