{
 "cells": [
  {
   "cell_type": "code",
   "execution_count": null,
   "metadata": {},
   "outputs": [],
   "source": [
    "from ultralytics import YOLO\n",
    "\n",
    "model = YOLO(\"yolov8n.pt\") # Load pretrained detection model\n",
    "\n",
    "\n",
    "results = model.train(data='dataset.yaml', epochs=100, imgsz=640) # Training model\n",
    "# More info at: https://docs.ultralytics.com/tasks/detect/"
   ]
  }
 ],
 "metadata": {
  "language_info": {
   "name": "python"
  }
 },
 "nbformat": 4,
 "nbformat_minor": 2
}
