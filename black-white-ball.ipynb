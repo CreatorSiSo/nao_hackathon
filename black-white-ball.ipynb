{
 "cells": [
 {
   "cell_type": "markdown",
   "metadata": {},
   "source": [
    "# Schwarz-weißen Ball erkennen\n",
    "\n",
    "Der rote Ball war natürlich nur eine Zwischenstufe, um das große Ziel zu erreichen, 2050 Menschen gegen zu gewinnen. Deswegen spielen die Roboter seit einigen Jahren schon mit einem schwarz-weißen Fußball.\n",
    "Dieser muss natürlich auch von den Robotern erkannt werden\n"
   ]
  },
  {
   "cell_type": "code",
   "execution_count": null,
   "metadata": {},
   "outputs": [],
   "source": [
    "from ultralytics import YOLO\n",
    "\n",
    "model = YOLO(\"yolov8n.pt\") # Load pretrained detection model\n",
    "\n",
    "\n",
    "results = model.train(data='dataset.yaml', epochs=100, imgsz=640) # Training model\n",
    "# More info at: https://docs.ultralytics.com/tasks/detect/"
   ]
  }
 ],
 "metadata": {
  "language_info": {
   "name": "python"
  }
 },
 "nbformat": 4,
 "nbformat_minor": 2
}
