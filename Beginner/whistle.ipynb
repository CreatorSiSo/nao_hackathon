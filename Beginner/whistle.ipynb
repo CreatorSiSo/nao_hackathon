{
 "cells": [
  {
   "cell_type": "markdown",
   "metadata": {},
   "source": [
    "# Pfiffdetektion\n",
    "Mit dem Pfiff werden im Spiel verschieden Situationen signalisiert. Z. B. wenn ein Spiel beginnt oder nachdem ein Tor gefallen ist. Wenn der Roboter den Pfiff nicht selbst erkennt, bekommt er erst mit 15s Verzögerung ein Signal gesendet. \n",
    "\n",
    "In 15s kann der Roboter über das halbe Spielfeld laufen. Um diesen Vorteil zu nutzen, muss er den Pfiff selbständig erkennen können. Ziel dieser Aufgabenreihe ist es, mit den Daten aus den Mikrofonen der Roboter vertraut zu werden, sowie eine simple Whistledetection zu schreiben (Beginner). Danach soll mit dem Konzept der Fourier-Transformation gearbeitet werden (Intermediate) und um dann mit den Problemen der Echtzeiterkennung unter viel Noise auf dem Wettbewerb (Advanced, Daten von der letzten Weltmeisterschaft) zurechtzukommen.\n",
    "\n",
    "Der folgende Code-Schnipsel lädt die Audiodaten aus der Datei. In der Datei sind nur die Daten von einem der vier Mikrofone des Roboters. Es wurde mehrmale neben einem Roboter gepfiffen. Es gibt so gut wie keine Hintergrundgeräusche."
   ]
  },
  {
   "cell_type": "code",
   "execution_count": null,
   "metadata": {},
   "outputs": [],
   "source": [
    "# Importieren des Moduls das Sounddaten verstehen kann\n",
    "import soundfile as sf\n",
    "\n",
    "# Lesen der Datei mit den Sounddaten\n",
    "sound_data, samplerate = sf.read('../data/audio/cleanWhistles.flac')\n",
    "\n",
    "# Darstellen der Daten als Array. \n",
    "print(sound_data)"
   ]
  },
  {
   "cell_type": "markdown",
   "metadata": {},
   "source": [
    "Da kann man noch nicht so viel erkennen. Um das besser zu sehen, können die Daten geplottet werden. Am besten nimmt man dafür eine Plotting-Library wie `matplotlib`"
   ]
  },
  {
   "cell_type": "code",
   "execution_count": null,
   "metadata": {},
   "outputs": [],
   "source": [
    "import matplotlib.pyplot as plt\n",
    "\n",
    "plt.plot(sound_data)\n"
   ]
  },
  {
   "cell_type": "markdown",
   "metadata": {},
   "source": [
    "Die einfachste Art, den Pfiff zu erkennen, ist zu schauen, wo es am lautesten ist. Die genaue Lautstärke kann nur mit einer Kalibrierung der Lautsprecher bestimmt werden. Das sit aber für die diese Daten nicht nötig. Anstatt der Lautstärke verwenden wir ein ähnliches Maß: die [Energie des Signals](https://de.wikipedia.org/wiki/Energiesignal). Die Energie berechnet sich aus der Summe der Quadrate aller Einzelsignale in einem bestimmten Zeitraum. \n",
    "Der Zeitraum, über den aufsummiert werden soll, wird über die `samplerate` bestimmt. Das Mikrofon zeichnet mit 44,1kHz, also 44.100 Einzelsignalen pro Sekunde auf. Im Zusammenhang damit, wie auf dem Roboter auf die Daten zugegriffen werden kann, sollen immer über 441 aufeinanderfolgende Einzelsignale aufsummiert werden. \n",
    "\n",
    "Aufgabe: Schreib ein Programm, was die Summen der quadrate für 441er Intervalle bildet und such nach einem Schwellwert, um Pfiffe von Nichtpfiffen zu unterscheiden. Hinweis: ein Pfiff ist meist mehrere hundert Millisekunden lang. Ein 441er Intervall umfasst genau 10ms. D. H. es sind kommen immer mehrere Erkennungen hintereinander. \n"
   ]
  },
  {
   "cell_type": "code",
   "execution_count": null,
   "outputs": [],
   "source": [
    "# your code here"
   ],
   "metadata": {
    "collapsed": false
   }
  }
 ],
 "metadata": {
  "kernelspec": {
   "display_name": ".venv",
   "language": "python",
   "name": "python3"
  },
  "language_info": {
   "codemirror_mode": {
    "name": "ipython",
    "version": 3
   },
   "file_extension": ".py",
   "mimetype": "text/x-python",
   "name": "python",
   "nbconvert_exporter": "python",
   "pygments_lexer": "ipython3",
   "version": "3.10.12"
  }
 },
 "nbformat": 4,
 "nbformat_minor": 2
}
