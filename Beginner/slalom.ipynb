{
 "cells": [
  {
   "cell_type": "markdown",
   "source": [
    "# Roboter Slalom laufen\n",
    "Stelle auf dem Feld ein kleinen Slalomparcour auf. Benutze dafür was du auch immer finden kannst (z.B. Mateflaschen, die zu sind). Der Roboter soll durch den Parcour fahren ohne die Hindernisse umzuwerfen.\n",
    "\n",
    "## Steuern des Roboters\n",
    "Du steuerst den Roboter über ein Python Script fern. (Normalerweise läuft das natürlich alles auf dem Roboter) Um den Roboter zu steuern loggst du dich als erstes auf den Roboter ein. Dafür startest du eine SSH Verbindung zu dem Roboter. Falls du nicht weißt wie das geht schau hier nach: https://github.com/SchulteDavid/nao_hackathon oder frag ein Mitglied der HTWK Robots nach hilfe. Im folgenden erklären wir dir den Code, den du für das Steuern brauchst.\n",
    "\n",
    "## Starten des Roboters\n",
    "Führe auf dem Roboter den Befehl `fw_sydney -p --agent walktuner` aus um den Roboter zu starten."
   ],
   "metadata": {
    "collapsed": false
   },
   "id": "aea42f8bdc9af290"
  },
  {
   "cell_type": "code",
   "execution_count": 1,
   "outputs": [
    {
     "ename": "KeyboardInterrupt",
     "evalue": "",
     "output_type": "error",
     "traceback": [
      "\u001B[0;31m---------------------------------------------------------------------------\u001B[0m",
      "\u001B[0;31mKeyboardInterrupt\u001B[0m                         Traceback (most recent call last)",
      "Cell \u001B[0;32mIn[1], line 6\u001B[0m\n\u001B[1;32m      4\u001B[0m \u001B[38;5;66;03m# Verbinden mit dem Roboter\u001B[39;00m\n\u001B[1;32m      5\u001B[0m ip \u001B[38;5;241m=\u001B[39m \u001B[38;5;124m\"\u001B[39m\u001B[38;5;124m10.0.13.4\u001B[39m\u001B[38;5;124m\"\u001B[39m\n\u001B[0;32m----> 6\u001B[0m controller \u001B[38;5;241m=\u001B[39m \u001B[43mWalkControl\u001B[49m\u001B[43m(\u001B[49m\u001B[43mip\u001B[49m\u001B[43m)\u001B[49m\n\u001B[1;32m      8\u001B[0m \u001B[38;5;66;03m# mit controller.set_target(x, y, y) läuft der Roboter auf die angegebene\u001B[39;00m\n\u001B[1;32m      9\u001B[0m \u001B[38;5;66;03m# Koordinate. x ist die lange Seite des Feldes, y die kurze und a der Winkel\u001B[39;00m\n\u001B[1;32m     10\u001B[0m \u001B[38;5;66;03m# in rad den der Roboter am Ziel haben soll. Die Einheiten sind in Meter. \u001B[39;00m\n\u001B[1;32m     11\u001B[0m controller\u001B[38;5;241m.\u001B[39mset_target(\u001B[38;5;241m3\u001B[39m, \u001B[38;5;241m-\u001B[39m\u001B[38;5;241m0.5\u001B[39m, \u001B[38;5;241m0\u001B[39m)\n",
      "File \u001B[0;32m~/nao/nao_hackathon/naobackend/walk_control.py:8\u001B[0m, in \u001B[0;36mWalkControl.__init__\u001B[0;34m(self, ip)\u001B[0m\n\u001B[1;32m      5\u001B[0m \u001B[38;5;28;01mdef\u001B[39;00m \u001B[38;5;21m__init__\u001B[39m(\u001B[38;5;28mself\u001B[39m, ip):\n\u001B[1;32m      6\u001B[0m     \u001B[38;5;66;03m# Connect to robot\u001B[39;00m\n\u001B[1;32m      7\u001B[0m     \u001B[38;5;28mself\u001B[39m\u001B[38;5;241m.\u001B[39mrobot \u001B[38;5;241m=\u001B[39m roptions\u001B[38;5;241m.\u001B[39mRobotOptionConnection()\n\u001B[0;32m----> 8\u001B[0m     \u001B[38;5;28;43mself\u001B[39;49m\u001B[38;5;241;43m.\u001B[39;49m\u001B[43mrobot\u001B[49m\u001B[38;5;241;43m.\u001B[39;49m\u001B[43mconnect\u001B[49m\u001B[43m(\u001B[49m\u001B[43mip\u001B[49m\u001B[43m)\u001B[49m\n\u001B[1;32m      9\u001B[0m     \u001B[38;5;28mself\u001B[39m\u001B[38;5;241m.\u001B[39mwalk_tuner \u001B[38;5;241m=\u001B[39m \u001B[38;5;28mself\u001B[39m\u001B[38;5;241m.\u001B[39mrobot\u001B[38;5;241m.\u001B[39mfirmware_options\u001B[38;5;241m.\u001B[39moption_sets[\u001B[38;5;124m\"\u001B[39m\u001B[38;5;124mwalktuner\u001B[39m\u001B[38;5;124m\"\u001B[39m]\n\u001B[1;32m     10\u001B[0m     \u001B[38;5;28mself\u001B[39m\u001B[38;5;241m.\u001B[39mparam_tuner \u001B[38;5;241m=\u001B[39m \u001B[38;5;28mself\u001B[39m\u001B[38;5;241m.\u001B[39mrobot\u001B[38;5;241m.\u001B[39mbridge_options\u001B[38;5;241m.\u001B[39moption_sets[\u001B[38;5;124m\"\u001B[39m\u001B[38;5;124mwalkingengine\u001B[39m\u001B[38;5;124m\"\u001B[39m]\n",
      "File \u001B[0;32m~/nao/nao_hackathon/naobackend/robot_option_connection.py:282\u001B[0m, in \u001B[0;36mRobotOptionConnection.connect\u001B[0;34m(self, ip_addr, port_firmware, port_bridge)\u001B[0m\n\u001B[1;32m    281\u001B[0m \u001B[38;5;28;01mdef\u001B[39;00m \u001B[38;5;21mconnect\u001B[39m(\u001B[38;5;28mself\u001B[39m, ip_addr: \u001B[38;5;28mstr\u001B[39m, port_firmware: \u001B[38;5;28mint\u001B[39m \u001B[38;5;241m=\u001B[39m PORT_FIRMWARE, port_bridge: \u001B[38;5;28mint\u001B[39m \u001B[38;5;241m=\u001B[39m PORT_BRIDGE):\n\u001B[0;32m--> 282\u001B[0m     \u001B[38;5;28mself\u001B[39m\u001B[38;5;241m.\u001B[39m__s_firmware \u001B[38;5;241m=\u001B[39m \u001B[43msocket\u001B[49m\u001B[38;5;241;43m.\u001B[39;49m\u001B[43mcreate_connection\u001B[49m\u001B[43m(\u001B[49m\u001B[43m(\u001B[49m\u001B[43mip_addr\u001B[49m\u001B[43m,\u001B[49m\u001B[43m \u001B[49m\u001B[43mport_firmware\u001B[49m\u001B[43m)\u001B[49m\u001B[43m)\u001B[49m\n\u001B[1;32m    283\u001B[0m     \u001B[38;5;28mself\u001B[39m\u001B[38;5;241m.\u001B[39m__s_bridge \u001B[38;5;241m=\u001B[39m socket\u001B[38;5;241m.\u001B[39mcreate_connection((ip_addr, port_bridge))\n\u001B[1;32m    285\u001B[0m     \u001B[38;5;28mself\u001B[39m\u001B[38;5;241m.\u001B[39mbridge_options \u001B[38;5;241m=\u001B[39m RobotOptionCollection()\u001B[38;5;241m.\u001B[39mconnect(ip_addr, port_bridge)\n",
      "File \u001B[0;32m/usr/lib/python3.11/socket.py:836\u001B[0m, in \u001B[0;36mcreate_connection\u001B[0;34m(address, timeout, source_address, all_errors)\u001B[0m\n\u001B[1;32m    834\u001B[0m \u001B[38;5;28;01mif\u001B[39;00m source_address:\n\u001B[1;32m    835\u001B[0m     sock\u001B[38;5;241m.\u001B[39mbind(source_address)\n\u001B[0;32m--> 836\u001B[0m \u001B[43msock\u001B[49m\u001B[38;5;241;43m.\u001B[39;49m\u001B[43mconnect\u001B[49m\u001B[43m(\u001B[49m\u001B[43msa\u001B[49m\u001B[43m)\u001B[49m\n\u001B[1;32m    837\u001B[0m \u001B[38;5;66;03m# Break explicitly a reference cycle\u001B[39;00m\n\u001B[1;32m    838\u001B[0m exceptions\u001B[38;5;241m.\u001B[39mclear()\n",
      "\u001B[0;31mKeyboardInterrupt\u001B[0m: "
     ]
    }
   ],
   "source": [
    "from naobackend.walk_control import WalkControl\n",
    "import time\n",
    "\n",
    "# Verbinden mit dem Roboter\n",
    "ip = \"10.0.13.4\"\n",
    "controller = WalkControl(ip)\n",
    "\n",
    "# mit controller.set_target(x, y, y) läuft der Roboter auf die angegebene\n",
    "# Koordinate. x ist die lange Seite des Feldes, y die kurze und a der Winkel\n",
    "# in rad den der Roboter am Ziel haben soll. Die Einheiten sind in Meter. \n",
    "controller.set_target(3, -0.5, 0)\n",
    "time.sleep(10)"
   ],
   "metadata": {
    "collapsed": false,
    "ExecuteTime": {
     "end_time": "2023-11-11T14:21:26.553940531Z",
     "start_time": "2023-11-11T14:21:24.000608647Z"
    }
   },
   "id": "3b4ac3231c2c6309"
  },
  {
   "cell_type": "markdown",
   "source": [
    "## Jetzt du\n",
    "Lass den Roboter im Slalom um die Hindernisse laufen."
   ],
   "metadata": {
    "collapsed": false
   },
   "id": "da297655653312b6"
  },
  {
   "cell_type": "code",
   "execution_count": 2,
   "outputs": [],
   "source": [
    "# your code here"
   ],
   "metadata": {
    "collapsed": false
   },
   "id": "a808d553a6551a3f"
  }
 ],
 "metadata": {
  "kernelspec": {
   "display_name": "Python 3",
   "language": "python",
   "name": "python3"
  },
  "language_info": {
   "codemirror_mode": {
    "name": "ipython",
    "version": 2
   },
   "file_extension": ".py",
   "mimetype": "text/x-python",
   "name": "python",
   "nbconvert_exporter": "python",
   "pygments_lexer": "ipython2",
   "version": "2.7.6"
  }
 },
 "nbformat": 4,
 "nbformat_minor": 5
}
