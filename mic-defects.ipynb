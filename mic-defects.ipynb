{
 "cells": [
  {
   "cell_type": "markdown",
   "metadata": {},
   "source": [
    "# Kaputte Mikrofone\n",
    "\n",
    "Es kommt bei den Naos häufiger vor, dass Mikrofone kaputt sind. Ein Programm was das erkennt wäre sehr praktisch und würde einiges an Arbeit sparen. Hier wollen wir ein Programm haben das genau das macht.\n",
    "Es liegen Beispielaufnahmen von einem Nao in dem Ordner \"data/audio\" mit denen die Ansätze getestet werden können.\n",
    "\n",
    "Die Kanäle können wie folgt auf die Mikrofone gemapped werden\n",
    "| Kanalnummer | Mikrofon      |\n",
    "|-------------|---------------|\n",
    "| 0           | hinten-links  |\n",
    "| 1           | hinten-rechts |\n",
    "| 2           | vorne-links   |\n",
    "| 3           | vorne-rechts  |\n",
    "\n",
    "Es kann nachher auch eine Schnittstelle auf dem Nao genutzt werden um an live-Daten zu testen ob das Programm funktioniert. "
   ]
  },
  {
   "cell_type": "code",
   "execution_count": null,
   "metadata": {},
   "outputs": [],
   "source": [
    "# Importieren des Moduls das Sounddaten verstehen kann\n",
    "import soundfile as sf\n",
    "\n",
    "# Lesen der Datei mit den Sounddaten\n",
    "raw_sound_data, samplerate = sf.read('data/audio/dead_mic.flac')"
   ]
  }
 ],
 "metadata": {
  "language_info": {
   "name": "python"
  }
 },
 "nbformat": 4,
 "nbformat_minor": 2
}
