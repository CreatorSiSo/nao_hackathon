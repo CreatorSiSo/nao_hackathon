{
 "cells": [
  {
   "cell_type": "markdown",
   "metadata": {},
   "source": [
    "# Mikrofonfehler\n",
    "Die Naos haben alle 4 Mikrofone verbaut. Alle vier sitzen im Kopf, zwei links, zwei rechts. Es kann passieren, wenn ein Roboter umfällt, oder so, dass eines der Mikrofone kaputt geht.\n",
    "\n",
    "Wir wollen ein Programm haben, mit dem wir sehen können ob noch alle Mikrofone funktionieren. Am einfachsten geht es wenn wir uns die vom Roboter aufgenommenen Audiosignale ansehen. Dafür kann man die aufgenommenen Audiodaten in vier Graphen plotten lassen.\n",
    "\n",
    "Der folgende Code-Schnipsel lädt die Audiodaten aus der Datei."
   ]
  },
  {
   "cell_type": "code",
   "execution_count": 7,
   "metadata": {},
   "outputs": [],
   "source": [
    "# Importieren des Moduls das Sounddaten verstehen kann\n",
    "import soundfile as sf\n",
    "\n",
    "# Lesen der Datei mit den Sounddaten\n",
    "raw_sound_data, samplerate = sf.read('data/audio/dead_mic.flac')\n",
    "\n",
    "# Konvertierung in ein angenehmeres Format \n",
    "sound_data = {}\n",
    "sound_data['front-left'] = [x[2] for x in raw_sound_data]\n",
    "sound_data['front-right'] = [x[3] for x in raw_sound_data]\n",
    "sound_data['back-left'] = [x[0] for x in raw_sound_data]\n",
    "sound_data['back-right'] = [x[1] for x in raw_sound_data]"
   ]
  },
  {
   "cell_type": "markdown",
   "metadata": {},
   "source": [
    "Jetzt liegen die Audiodaten nach Kanälen sortiert in dem dictionary `sound_data`. Von hier aus können die Daten geplottet werden. Am besten nimmt man dafür eine Plotting-Library wie `matplotlib`"
   ]
  },
  {
   "cell_type": "code",
   "execution_count": null,
   "metadata": {},
   "outputs": [],
   "source": [
    "import matplotlib.pyplot as plt\n",
    "\n",
    "\n"
   ]
  },
  {
   "cell_type": "markdown",
   "metadata": {},
   "source": [
    "Jetzt wo wir uns die Daten angesehen haben, wäre es echt praktisch wenn das Programm komplett automatisch erkennen kann ob ein Mikrofon kaputt ist und wenn ja welches. Für genaueres dazu kannst du in die Challenge \"mic-defects\" schauen."
   ]
  }
 ],
 "metadata": {
  "kernelspec": {
   "display_name": ".venv",
   "language": "python",
   "name": "python3"
  },
  "language_info": {
   "codemirror_mode": {
    "name": "ipython",
    "version": 3
   },
   "file_extension": ".py",
   "mimetype": "text/x-python",
   "name": "python",
   "nbconvert_exporter": "python",
   "pygments_lexer": "ipython3",
   "version": "3.10.12"
  }
 },
 "nbformat": 4,
 "nbformat_minor": 2
}
